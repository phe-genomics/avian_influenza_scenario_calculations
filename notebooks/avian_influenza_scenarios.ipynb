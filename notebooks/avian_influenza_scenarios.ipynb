{
 "cells": [
  {
   "cell_type": "markdown",
   "metadata": {
    "id": "v8g4fbslDHQp"
   },
   "source": [
    "# Avian Influenza Scenarios\n",
    "\n",
    "Authors: Luke Hounsome and Leo Loman\n",
    "Date: 24/03/2023\n",
    "\n",
    "This notebook explore 3 possible scenarios that Avian Influenza could have upon 4 age groups: 0-4, 5-19, 20-64, 65+.\n",
    "\n",
    "It takes the country's population and the population of each age group then using a series of simultaneous equations we solve what the overall rate is for each given age bucket.\n",
    "\n",
    "### Monotonic Scenario\n",
    "\n",
    "The monotonic scenario assumes that there is a steady increase with age, the equation solved is as follows:\n",
    "\n",
    "$nd = (p_{1} r_{1}) + (p_{2} r_{2}) + (p_{3} r_{3}) + (p_{4} r_{4})$\n",
    "\n",
    "$r_{2} =10 r_{1}$\n",
    "\n",
    "$r_{3} = 10 r_{2}$\n",
    "\n",
    "$r_{4} = 10 r_{3}$\n",
    "\n",
    "### Youth Risk Scenario\n",
    "\n",
    "The youth risk scenario inreases the risk in the very young\n",
    "\n",
    "$n d = (p_{1} r_{1}) + (p_{2} r_{2}) + (p_{3} r_{3}) + (p_{4} r_{4})$\n",
    "\n",
    "$r_{2} = \\frac{r_{1}}{5} $\n",
    "\n",
    "$r_{3} = \\frac{r_{2}}{5} $\n",
    "\n",
    "$r_{4} = 100 r_{3}$\n",
    "\n",
    "Where $n$ is the given rate to solve for, $d$ is the total population, $r_{n}$ represents a given age group and $p_{n}$ is the age groups population.\n"
   ]
  },
  {
   "cell_type": "code",
   "execution_count": null,
   "metadata": {
    "id": "hzgAQVTvDHQ2"
   },
   "outputs": [],
   "source": [
    "import numpy as np\n",
    "import matplotlib.pyplot as plt\n",
    "import sympy as sym"
   ]
  },
  {
   "cell_type": "code",
   "execution_count": null,
   "metadata": {
    "id": "em_1QvJGDHQ6"
   },
   "outputs": [],
   "source": [
    "def calculate_monotonic(n):\n",
    "    \"\"\"\n",
    "    Calculate the monotonic scenario for each age group based off of a given value n which is the overall rate\n",
    "\n",
    "    equation:\n",
    "    n * d = (p_{1} * r_{1}) + (p_{2} * r_{2}) + (p_{3} * r_{3}) + (p_{4} * r_{4})\n",
    "    r_{2} = r_{1} * 10\n",
    "    r_{3} = r_{2} * 10\n",
    "    r_{4} = r_{3} * 10\n",
    "\n",
    "    args:\n",
    "        n: float, rate of event eg fatality rate, hospitality rate\n",
    "\n",
    "    returns:\n",
    "        dict[str] = float, the key is the age band and the value is the given rate\n",
    "    \"\"\"\n",
    "\n",
    "    # monotonic increase (ratio is 1:10:100:1000)\n",
    "    # overall population\n",
    "    d = 56490101\n",
    "\n",
    "    # age_specific populations\n",
    "    p_1 = 3076945\n",
    "    p_2 = 9980931\n",
    "    p_3 = 33030917\n",
    "    p_4 = 10401308\n",
    "\n",
    "    r_1, r_2, r_3, r_4 = sym.symbols(\"r_1,r_2,r_3,r_4\")\n",
    "    eq1 = sym.Eq((p_1 * r_1) + (p_2 * r_2) + (p_3 * r_3) + (p_4 * r_4), n * d)\n",
    "    eq2 = sym.Eq(r_1 * 10, r_2)\n",
    "    eq3 = sym.Eq(r_2 * 10, r_3)\n",
    "    eq4 = sym.Eq(r_3 * 10, r_4)\n",
    "\n",
    "    result = sym.solve([eq1, eq2, eq3, eq4], (r_1, r_2, r_3, r_4))\n",
    "\n",
    "    return {str(x[0]): float(x[1]) for x in result.items()}\n",
    "\n",
    "\n",
    "def calculate_youth_risk(n):\n",
    "    \"\"\"\n",
    "    Calculate the youth risk scenario for each age group based off of a given value n which is the overall rate\n",
    "\n",
    "    equation:\n",
    "    n * d = (p_{1} * r_{1}) + (p_{2} * r_{2}) + (p_{3} * r_{3}) + (p_{4} * r_{4})\n",
    "    r_{2} = r_{1} / 5\n",
    "    r_{3} = r_{2} / 10\n",
    "    r_{4} = r_{3} * 100\n",
    "\n",
    "    args:\n",
    "        n: float, rate of event eg fatality rate, hospitality rate\n",
    "\n",
    "    returns:\n",
    "        dict[str] = float, the key is the age band and the value is the given rate\n",
    "    \"\"\"\n",
    "    # (ratio is 50:10:1:100)\n",
    "    # overall population\n",
    "    d = 56490101\n",
    "\n",
    "    # age_specific populations\n",
    "    p_1 = 3076945\n",
    "    p_2 = 9980931\n",
    "    p_3 = 33030917\n",
    "    p_4 = 10401308\n",
    "\n",
    "    r_1, r_2, r_3, r_4 = sym.symbols(\"r_1,r_2,r_3,r_4\")\n",
    "    eq1 = sym.Eq((p_1 * r_1) + (p_2 * r_2) + (p_3 * r_3) + (p_4 * r_4), n * d)\n",
    "    eq2 = sym.Eq(r_1 / 5, r_2)\n",
    "    eq3 = sym.Eq(r_2 / 10, r_3)\n",
    "    eq4 = sym.Eq(r_3 * 100, r_4)\n",
    "\n",
    "    result = sym.solve([eq1, eq2, eq3, eq4], (r_1, r_2, r_3, r_4))\n",
    "\n",
    "    return {str(x[0]): float(x[1]) for x in result.items()}"
   ]
  },
  {
   "cell_type": "code",
   "execution_count": null,
   "metadata": {
    "id": "t5m1z0IZDHQ9"
   },
   "outputs": [],
   "source": [
    "def plot_scenario(ihr, ifr, icu, title):\n",
    "    \"\"\"\n",
    "    Plot the IHR, IFR and ICU against each other to show the scenario's impact on each age group\n",
    "\n",
    "    args:\n",
    "        ihr: list[float]\n",
    "        ifr: list[float]\n",
    "        icu: list[float]\n",
    "        title: str - title of the plot\n",
    "    \"\"\"\n",
    "    fig = plt.figure(figsize=(6, 4), dpi=100)\n",
    "    ax = plt.subplot()\n",
    "    ax.plot(ihr, color=\"Teal\", label=\"IHR\")\n",
    "    ax.plot(ifr, color=\"DarkBlue\", label=\"IFR\")\n",
    "    ax.plot(icu, color=\"Grey\", label=\"IICUR\")\n",
    "    ax.set_xticks(ticks=[0, 1, 2, 3], labels=[\"0-4\", \"5-19\", \"20-64\", \"65+\"])\n",
    "    ax.set_xlabel(\"Ageband\")\n",
    "    ax.set_ylabel(\"IHR/IFR/IICUR (%)\")\n",
    "    ax.legend(bbox_to_anchor=(1.25, 1), title=\"Rate\")\n",
    "    ax.set_title(title)\n",
    "    plt.show()"
   ]
  },
  {
   "cell_type": "markdown",
   "metadata": {
    "id": "EkRMqE4DDHQ_"
   },
   "source": [
    "## Scenarios\n",
    "\n",
    "The rest of the notebook will follow each scenario which will show graphs in the following order; Flat scenario, Monotonic scenario, Youth Risk scenario.\n",
    "\n",
    "### Scenario 1"
   ]
  },
  {
   "cell_type": "code",
   "execution_count": null,
   "metadata": {
    "id": "cqw4MQJwDHRA",
    "outputId": "95eafcad-1006-4d14-abfc-5ec1138929ce"
   },
   "outputs": [],
   "source": [
    "ihr = np.array([1, 1, 1, 1])\n",
    "ifr = np.array([0.25, 0.25, 0.25, 0.25])\n",
    "icu = np.array([0.25, 0.25, 0.25, 0.25])\n",
    "plot_scenario(ihr, ifr, icu, \"Flat Scenario 1\")"
   ]
  },
  {
   "cell_type": "code",
   "execution_count": null,
   "metadata": {
    "id": "qO2LZfAmDHRD",
    "outputId": "3c7ceaa9-64dd-4286-b46b-546e42b28ae3"
   },
   "outputs": [],
   "source": [
    "plot_scenario(\n",
    "    calculate_monotonic(1).values(),\n",
    "    calculate_monotonic(0.25).values(),\n",
    "    calculate_monotonic(0.25).values(),\n",
    "    \"Monotonic Scenario 1\",\n",
    ")"
   ]
  },
  {
   "cell_type": "code",
   "execution_count": null,
   "metadata": {
    "id": "zFVB3bMiDHRE",
    "outputId": "134a4934-a9a8-46ce-cf41-b7b739fece66"
   },
   "outputs": [],
   "source": [
    "plot_scenario(\n",
    "    calculate_youth_risk(1).values(),\n",
    "    calculate_youth_risk(0.25).values(),\n",
    "    calculate_youth_risk(0.25).values(),\n",
    "    \"Youth Risk Scenario 1\",\n",
    ")"
   ]
  },
  {
   "cell_type": "markdown",
   "metadata": {
    "id": "dmcJux6mDHRG"
   },
   "source": [
    "## Scenario 2"
   ]
  },
  {
   "cell_type": "code",
   "execution_count": null,
   "metadata": {
    "id": "FPzodA_YDHRH",
    "outputId": "f562472a-5c2a-45f9-fe15-40d715cb26d3"
   },
   "outputs": [],
   "source": [
    "ihr = np.array([5, 5, 5, 5])\n",
    "ifr = np.array([2.5, 2.5, 2.5, 2.5])\n",
    "icu = np.array([5 / 4, 5 / 4, 5 / 4, 5 / 4])\n",
    "\n",
    "plot_scenario(ihr, ifr, icu, \"Flat Scenario 2\")"
   ]
  },
  {
   "cell_type": "code",
   "execution_count": null,
   "metadata": {
    "id": "SauIFaobDHRI",
    "outputId": "234f5265-b5b3-41b9-d2c7-f9d04205e194"
   },
   "outputs": [],
   "source": [
    "plot_scenario(\n",
    "    calculate_monotonic(5).values(),\n",
    "    calculate_monotonic(2.5).values(),\n",
    "    calculate_monotonic(1.25).values(),\n",
    "    \"Monotonic Scenario 2\",\n",
    ")"
   ]
  },
  {
   "cell_type": "code",
   "execution_count": null,
   "metadata": {
    "id": "06OZtJhvDHRJ",
    "outputId": "b3c12c05-968e-49e8-bc23-49641a6fcd61"
   },
   "outputs": [],
   "source": [
    "plot_scenario(\n",
    "    calculate_youth_risk(5).values(),\n",
    "    calculate_youth_risk(2.5).values(),\n",
    "    calculate_youth_risk(1.25).values(),\n",
    "    \"Youth Risk Scenario 2\",\n",
    ")"
   ]
  },
  {
   "cell_type": "markdown",
   "metadata": {
    "id": "R2F7JhLFDHRK"
   },
   "source": [
    "## Scenario 3"
   ]
  },
  {
   "cell_type": "code",
   "execution_count": null,
   "metadata": {
    "id": "tiPm3XaxDHRL",
    "outputId": "33b42f6b-7cbd-4ef6-8dbc-ead362ee8050"
   },
   "outputs": [],
   "source": [
    "ihr = np.array([10, 10, 10, 10])\n",
    "ifr = np.array([5, 5, 5, 5])\n",
    "icu = np.array([2.5, 2.5, 2.5, 2.5])\n",
    "\n",
    "plot_scenario(ihr, ifr, icu, \"Flat Scenario 3\")"
   ]
  },
  {
   "cell_type": "code",
   "execution_count": null,
   "metadata": {
    "id": "RUBnSxcBDHRM",
    "outputId": "4b8ca5e1-89f3-4ee5-a5c9-c1593012e9d6"
   },
   "outputs": [],
   "source": [
    "plot_scenario(\n",
    "    calculate_monotonic(10).values(),\n",
    "    calculate_monotonic(5).values(),\n",
    "    calculate_monotonic(2.5).values(),\n",
    "    \"Monotonic Scenario 3\",\n",
    ")"
   ]
  },
  {
   "cell_type": "code",
   "execution_count": null,
   "metadata": {
    "id": "c7zT4VHIDHRM",
    "outputId": "3f20df0f-baa7-4f8a-b6a3-6d95c9ed65de"
   },
   "outputs": [],
   "source": [
    "plot_scenario(\n",
    "    calculate_youth_risk(10).values(),\n",
    "    calculate_youth_risk(5).values(),\n",
    "    calculate_youth_risk(2.5).values(),\n",
    "    \"Youth Risk Scenario 3\",\n",
    ")"
   ]
  }
 ],
 "metadata": {
  "colab": {
   "provenance": [],
   "toc_visible": true
  },
  "kernelspec": {
   "display_name": "Python 3 (ipykernel)",
   "language": "python",
   "name": "python3"
  },
  "language_info": {
   "codemirror_mode": {
    "name": "ipython",
    "version": 3
   },
   "file_extension": ".py",
   "mimetype": "text/x-python",
   "name": "python",
   "nbconvert_exporter": "python",
   "pygments_lexer": "ipython3",
   "version": "3.8.15"
  },
  "vscode": {
   "interpreter": {
    "hash": "61dff694eaa575477a8bbca062a3a6d8cce05e775af8c2ac874f8c8acb261416"
   }
  }
 },
 "nbformat": 4,
 "nbformat_minor": 4
}
